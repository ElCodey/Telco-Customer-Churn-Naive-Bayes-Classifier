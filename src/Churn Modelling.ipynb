{
 "cells": [
  {
   "cell_type": "code",
   "execution_count": 32,
   "metadata": {},
   "outputs": [],
   "source": [
    "import pandas as pd\n",
    "import matplotlib.pyplot as plt\n",
    "import seaborn as sns\n",
    "import numpy as np\n",
    "\n",
    "\n",
    "from models import cross_val_bayes, bayes_model_conf_matrix\n",
    "\n",
    "%matplotlib inline"
   ]
  },
  {
   "cell_type": "markdown",
   "metadata": {},
   "source": [
    "# Modelling and Model Analysis\n",
    "\n",
    "This section we will be exploring the different features for the Bayes Classifer. First, looking into the over accuracy of the models using cross validation. Then once features have been experimented with, a deeper look into model performance will be done using confusion matrixes."
   ]
  },
  {
   "cell_type": "code",
   "execution_count": 2,
   "metadata": {},
   "outputs": [],
   "source": [
    "df = pd.read_csv(\"cleaned_data.csv\")"
   ]
  },
  {
   "cell_type": "code",
   "execution_count": 3,
   "metadata": {},
   "outputs": [
    {
     "data": {
      "text/plain": [
       "Index(['Unnamed: 0', 'tenure', 'monthly_charges', 'churn', 'internet_dsl',\n",
       "       'internet_fiber', 'internet_no', 'tech_support_no', 'tech_support_yes',\n",
       "       'contract_monthly', 'contract_1_year', 'contract_2_year'],\n",
       "      dtype='object')"
      ]
     },
     "execution_count": 3,
     "metadata": {},
     "output_type": "execute_result"
    }
   ],
   "source": [
    "df.columns"
   ]
  },
  {
   "cell_type": "code",
   "execution_count": 4,
   "metadata": {},
   "outputs": [
    {
     "data": {
      "text/html": [
       "<div>\n",
       "<style scoped>\n",
       "    .dataframe tbody tr th:only-of-type {\n",
       "        vertical-align: middle;\n",
       "    }\n",
       "\n",
       "    .dataframe tbody tr th {\n",
       "        vertical-align: top;\n",
       "    }\n",
       "\n",
       "    .dataframe thead th {\n",
       "        text-align: right;\n",
       "    }\n",
       "</style>\n",
       "<table border=\"1\" class=\"dataframe\">\n",
       "  <thead>\n",
       "    <tr style=\"text-align: right;\">\n",
       "      <th></th>\n",
       "      <th>Unnamed: 0</th>\n",
       "      <th>tenure</th>\n",
       "      <th>monthly_charges</th>\n",
       "      <th>churn</th>\n",
       "      <th>internet_dsl</th>\n",
       "      <th>internet_fiber</th>\n",
       "      <th>internet_no</th>\n",
       "      <th>tech_support_no</th>\n",
       "      <th>tech_support_yes</th>\n",
       "      <th>contract_monthly</th>\n",
       "      <th>contract_1_year</th>\n",
       "      <th>contract_2_year</th>\n",
       "    </tr>\n",
       "  </thead>\n",
       "  <tbody>\n",
       "    <tr>\n",
       "      <th>0</th>\n",
       "      <td>0</td>\n",
       "      <td>1</td>\n",
       "      <td>29.85</td>\n",
       "      <td>0</td>\n",
       "      <td>1</td>\n",
       "      <td>0</td>\n",
       "      <td>0</td>\n",
       "      <td>1</td>\n",
       "      <td>0</td>\n",
       "      <td>1</td>\n",
       "      <td>0</td>\n",
       "      <td>0</td>\n",
       "    </tr>\n",
       "    <tr>\n",
       "      <th>1</th>\n",
       "      <td>1</td>\n",
       "      <td>34</td>\n",
       "      <td>56.95</td>\n",
       "      <td>0</td>\n",
       "      <td>1</td>\n",
       "      <td>0</td>\n",
       "      <td>0</td>\n",
       "      <td>1</td>\n",
       "      <td>0</td>\n",
       "      <td>0</td>\n",
       "      <td>1</td>\n",
       "      <td>0</td>\n",
       "    </tr>\n",
       "    <tr>\n",
       "      <th>2</th>\n",
       "      <td>2</td>\n",
       "      <td>2</td>\n",
       "      <td>53.85</td>\n",
       "      <td>1</td>\n",
       "      <td>1</td>\n",
       "      <td>0</td>\n",
       "      <td>0</td>\n",
       "      <td>1</td>\n",
       "      <td>0</td>\n",
       "      <td>1</td>\n",
       "      <td>0</td>\n",
       "      <td>0</td>\n",
       "    </tr>\n",
       "    <tr>\n",
       "      <th>3</th>\n",
       "      <td>3</td>\n",
       "      <td>45</td>\n",
       "      <td>42.30</td>\n",
       "      <td>0</td>\n",
       "      <td>1</td>\n",
       "      <td>0</td>\n",
       "      <td>0</td>\n",
       "      <td>0</td>\n",
       "      <td>1</td>\n",
       "      <td>0</td>\n",
       "      <td>1</td>\n",
       "      <td>0</td>\n",
       "    </tr>\n",
       "    <tr>\n",
       "      <th>4</th>\n",
       "      <td>4</td>\n",
       "      <td>2</td>\n",
       "      <td>70.70</td>\n",
       "      <td>1</td>\n",
       "      <td>0</td>\n",
       "      <td>1</td>\n",
       "      <td>0</td>\n",
       "      <td>1</td>\n",
       "      <td>0</td>\n",
       "      <td>1</td>\n",
       "      <td>0</td>\n",
       "      <td>0</td>\n",
       "    </tr>\n",
       "  </tbody>\n",
       "</table>\n",
       "</div>"
      ],
      "text/plain": [
       "   Unnamed: 0  tenure  monthly_charges  churn  internet_dsl  internet_fiber  \\\n",
       "0           0       1            29.85      0             1               0   \n",
       "1           1      34            56.95      0             1               0   \n",
       "2           2       2            53.85      1             1               0   \n",
       "3           3      45            42.30      0             1               0   \n",
       "4           4       2            70.70      1             0               1   \n",
       "\n",
       "   internet_no  tech_support_no  tech_support_yes  contract_monthly  \\\n",
       "0            0                1                 0                 1   \n",
       "1            0                1                 0                 0   \n",
       "2            0                1                 0                 1   \n",
       "3            0                0                 1                 0   \n",
       "4            0                1                 0                 1   \n",
       "\n",
       "   contract_1_year  contract_2_year  \n",
       "0                0                0  \n",
       "1                1                0  \n",
       "2                0                0  \n",
       "3                1                0  \n",
       "4                0                0  "
      ]
     },
     "execution_count": 4,
     "metadata": {},
     "output_type": "execute_result"
    }
   ],
   "source": [
    "df.head()"
   ]
  },
  {
   "cell_type": "markdown",
   "metadata": {},
   "source": [
    "# Feature Engineering\n",
    "\n",
    "This section will be exploring different X features and trying to find the most accurate model for predicting churn customers. \n"
   ]
  },
  {
   "cell_type": "code",
   "execution_count": 5,
   "metadata": {},
   "outputs": [
    {
     "name": "stdout",
     "output_type": "stream",
     "text": [
      "0.73\n"
     ]
    }
   ],
   "source": [
    "x = df[[\"tenure\", \"monthly_charges\", \"internet_dsl\", \"internet_fiber\", \"internet_no\",\n",
    "        \"tech_support_no\", \"tech_support_yes\", \"contract_monthly\", \n",
    "        \"contract_1_year\", \"contract_2_year\"]]\n",
    "y = df[\"churn\"]\n",
    "\n",
    "result_all_features = cross_val_bayes(x, y)\n",
    "\n",
    "print(result_all_features)"
   ]
  },
  {
   "cell_type": "code",
   "execution_count": 6,
   "metadata": {},
   "outputs": [
    {
     "name": "stdout",
     "output_type": "stream",
     "text": [
      "0.78\n"
     ]
    }
   ],
   "source": [
    "x = df[[\"tenure\", \"monthly_charges\"]]\n",
    "y = df[\"churn\"]\n",
    "\n",
    "result_2_features = cross_val_bayes(x, y)\n",
    "\n",
    "print(result_2_features)"
   ]
  },
  {
   "cell_type": "code",
   "execution_count": 7,
   "metadata": {},
   "outputs": [
    {
     "name": "stdout",
     "output_type": "stream",
     "text": [
      "0.66\n"
     ]
    }
   ],
   "source": [
    "x = df[[\"tenure\", \"monthly_charges\", \"contract_monthly\", \"contract_1_year\", \"contract_2_year\"]]\n",
    "y = df[\"churn\"]\n",
    "\n",
    "result_5_features = cross_val_bayes(x, y)\n",
    "\n",
    "print(result_5_features)"
   ]
  },
  {
   "cell_type": "code",
   "execution_count": 8,
   "metadata": {},
   "outputs": [
    {
     "name": "stdout",
     "output_type": "stream",
     "text": [
      "0.75\n"
     ]
    }
   ],
   "source": [
    "x = df[[\"tenure\", \"monthly_charges\", \"internet_dsl\", \"internet_fiber\", \"internet_no\"]]\n",
    "y = df[\"churn\"]\n",
    "\n",
    "result_internet_features = cross_val_bayes(x, y)\n",
    "\n",
    "print(result_internet_features)"
   ]
  },
  {
   "cell_type": "code",
   "execution_count": 9,
   "metadata": {},
   "outputs": [
    {
     "name": "stdout",
     "output_type": "stream",
     "text": [
      "0.73\n"
     ]
    }
   ],
   "source": [
    "x = df[[\"tenure\", \"monthly_charges\", \"internet_dsl\", \"internet_fiber\", \"internet_no\",\n",
    "        \"tech_support_no\", \"tech_support_yes\"]]\n",
    "y = df[\"churn\"]\n",
    "\n",
    "result_7_features = cross_val_bayes(x, y)\n",
    "\n",
    "print(result_7_features)"
   ]
  },
  {
   "cell_type": "code",
   "execution_count": 10,
   "metadata": {},
   "outputs": [
    {
     "name": "stdout",
     "output_type": "stream",
     "text": [
      "0.71\n"
     ]
    }
   ],
   "source": [
    "x = df[[\"tenure\", \"monthly_charges\", \"internet_dsl\", \"internet_fiber\", \"internet_no\",\n",
    "        \"contract_monthly\", \"contract_1_year\", \"contract_2_year\"]]\n",
    "y = df[\"churn\"]\n",
    "\n",
    "result_8_features = cross_val_bayes(x, y)\n",
    "\n",
    "print(result_8_features)"
   ]
  },
  {
   "cell_type": "code",
   "execution_count": 11,
   "metadata": {},
   "outputs": [
    {
     "name": "stdout",
     "output_type": "stream",
     "text": [
      "0.74\n"
     ]
    }
   ],
   "source": [
    "x = df[[\"tenure\", \"monthly_charges\", \"tech_support_no\", \"tech_support_yes\"]]\n",
    "y = df[\"churn\"]\n",
    "\n",
    "result_4_features = cross_val_bayes(x, y)\n",
    "\n",
    "print(result_4_features)"
   ]
  },
  {
   "cell_type": "markdown",
   "metadata": {},
   "source": [
    "The model that used all features had an accuracy of 73%, which was the first model tested. The model that performed considerable better than all other models was the most simple model, which only used tenure and monthly charges. It had an accuracy of 78%. When combined with an additional feature the model performed worse. We can now take the top 2/3 models and analyse them in more depth. We need to explore the confusion matrix before we can draw conclusions on the best features to use. "
   ]
  },
  {
   "cell_type": "code",
   "execution_count": 12,
   "metadata": {},
   "outputs": [],
   "source": [
    "matrix_2_features = bayes_model_conf_matrix(df, [\"tenure\", \"monthly_charges\"], \"churn\")"
   ]
  },
  {
   "cell_type": "code",
   "execution_count": 13,
   "metadata": {},
   "outputs": [
    {
     "data": {
      "text/plain": [
       "array([[966,  70],\n",
       "       [214, 159]], dtype=int64)"
      ]
     },
     "execution_count": 13,
     "metadata": {},
     "output_type": "execute_result"
    }
   ],
   "source": [
    "matrix_2_features"
   ]
  },
  {
   "cell_type": "code",
   "execution_count": 14,
   "metadata": {},
   "outputs": [
    {
     "data": {
      "text/plain": [
       "array([[834, 202],\n",
       "       [130, 243]], dtype=int64)"
      ]
     },
     "execution_count": 14,
     "metadata": {},
     "output_type": "execute_result"
    }
   ],
   "source": [
    "matrix_5_features = bayes_model_conf_matrix(df, [\"tenure\", \"monthly_charges\", \"internet_dsl\", \"internet_fiber\", \n",
    "                                                 \"internet_no\"], \"churn\")\n",
    "matrix_5_features"
   ]
  },
  {
   "cell_type": "code",
   "execution_count": 15,
   "metadata": {},
   "outputs": [
    {
     "data": {
      "text/plain": [
       "array([[742, 294],\n",
       "       [ 70, 303]], dtype=int64)"
      ]
     },
     "execution_count": 15,
     "metadata": {},
     "output_type": "execute_result"
    }
   ],
   "source": [
    "matrix_all_features = bayes_model_conf_matrix(df, [\"tenure\", \"monthly_charges\", \"internet_dsl\", \"internet_fiber\", \n",
    "                                                   \"internet_no\", \"tech_support_no\", \"tech_support_yes\", \n",
    "                                                   \"contract_monthly\", \"contract_1_year\", \"contract_2_year\"], \n",
    "                                                   \"churn\")\n",
    "matrix_all_features"
   ]
  },
  {
   "cell_type": "markdown",
   "metadata": {},
   "source": [
    "### Displaying Matrixes"
   ]
  },
  {
   "cell_type": "code",
   "execution_count": 16,
   "metadata": {},
   "outputs": [
    {
     "data": {
      "image/png": "[encoded data removed]",
      "text/plain": [
       "<Figure size 432x288 with 1 Axes>"
      ]
     },
     "metadata": {
      "needs_background": "light"
     },
     "output_type": "display_data"
    },
    {
     "data": {
      "image/png": "[encoded data removed]",
      "text/plain": [
       "<Figure size 432x288 with 1 Axes>"
      ]
     },
     "metadata": {
      "needs_background": "light"
     },
     "output_type": "display_data"
    },
    {
     "data": {
      "image/png": "[encoded data removed]",
      "text/plain": [
       "<Figure size 432x288 with 1 Axes>"
      ]
     },
     "metadata": {
      "needs_background": "light"
     },
     "output_type": "display_data"
    }
   ],
   "source": [
    "# Matrix 2 features\n",
    "plt.clf()\n",
    "plt.imshow(matrix_2_features, interpolation='nearest', cmap=plt.cm.hsv)\n",
    "classNames = ['Negative','Positive']\n",
    "plt.title('Confusion Matrix - Bayes for 2 features')\n",
    "plt.ylabel('True label')\n",
    "plt.xlabel('Predicted label')\n",
    "tick_marks = np.arange(len(classNames))\n",
    "plt.xticks(tick_marks, classNames, rotation=45)\n",
    "plt.yticks(tick_marks, classNames)\n",
    "s = [['TN','FP'], ['FN', 'TP']]\n",
    "for i in range(2):\n",
    "    for j in range(2):\n",
    "        plt.text(j,i, str(s[i][j])+\" = \"+str(matrix_2_features[i][j]))\n",
    "plt.show()\n",
    "\n",
    "# Matrix 5 features\n",
    "plt.clf()\n",
    "plt.imshow(matrix_5_features, interpolation='nearest', cmap=plt.cm.hsv)\n",
    "classNames = ['Negative','Positive']\n",
    "plt.title('Confusion Matrix - Bayes for 5 features')\n",
    "plt.ylabel('True label')\n",
    "plt.xlabel('Predicted label')\n",
    "tick_marks = np.arange(len(classNames))\n",
    "plt.xticks(tick_marks, classNames, rotation=45)\n",
    "plt.yticks(tick_marks, classNames)\n",
    "s = [['TN','FP'], ['FN', 'TP']]\n",
    "for i in range(2):\n",
    "    for j in range(2):\n",
    "        plt.text(j,i, str(s[i][j])+\" = \"+str(matrix_5_features[i][j]))\n",
    "plt.show()\n",
    "\n",
    "#Matrix all features\n",
    "plt.clf()\n",
    "plt.imshow(matrix_all_features, interpolation='nearest', cmap=plt.cm.hsv)\n",
    "classNames = ['Negative','Positive']\n",
    "plt.title('Confusion Matrix - Bayes for all features')\n",
    "plt.ylabel('True label')\n",
    "plt.xlabel('Predicted label')\n",
    "tick_marks = np.arange(len(classNames))\n",
    "plt.xticks(tick_marks, classNames, rotation=45)\n",
    "plt.yticks(tick_marks, classNames)\n",
    "s = [['TN','FP'], ['FN', 'TP']]\n",
    "for i in range(2):\n",
    "    for j in range(2):\n",
    "        plt.text(j,i, str(s[i][j])+\" = \"+str(matrix_all_features[i][j]))\n",
    "plt.show()"
   ]
  },
  {
   "cell_type": "markdown",
   "metadata": {},
   "source": [
    "As we can see from the matrixes above, the results vary a lot when we dig deeper into the accuracy of the models. The best overall performing model had the least amount of True Positives. In this case, true negative is when the customer did not churn and the model correctly predicted (top left). False positive was when the model predicted a churn customer but they were in the no churn group (top right). False negative is when the model predicted no churn but the customer was in the churn group (bottom left). True positive was when the customer was in the churn group and the model correctly predicted them (bottom right). \n",
    "\n",
    "So in this model, true positive is very important because we want to know what customers are at risk of churning. So the model with the highest true positive and lowest false negative (missed churn customers) is clearly the bottom matrix, which used all features. We can now take a quick look at the accuracy of each section. "
   ]
  },
  {
   "cell_type": "code",
   "execution_count": 40,
   "metadata": {},
   "outputs": [
    {
     "data": {
      "image/png": "[encoded data removed]",
      "text/plain": [
       "<Figure size 432x288 with 2 Axes>"
      ]
     },
     "metadata": {
      "needs_background": "light"
     },
     "output_type": "display_data"
    }
   ],
   "source": [
    "conf_mat_normalized = matrix_2_features.astype('float') / matrix_2_features.sum(axis=1)[:, np.newaxis]\n",
    "sns.heatmap(conf_mat_normalized, annot=True, )\n",
    "plt.title(\"2 Feature Matrix\");\n",
    "plt.show()"
   ]
  },
  {
   "cell_type": "code",
   "execution_count": 41,
   "metadata": {},
   "outputs": [
    {
     "data": {
      "image/png": "[encoded data removed]",
      "text/plain": [
       "<Figure size 432x288 with 2 Axes>"
      ]
     },
     "metadata": {
      "needs_background": "light"
     },
     "output_type": "display_data"
    }
   ],
   "source": [
    "conf_mat_normalized_5 = matrix_5_features.astype('float') / matrix_5_features.sum(axis=1)[:, np.newaxis]\n",
    "sns.heatmap(conf_mat_normalized_5, annot=True, )\n",
    "plt.title(\"5 Feature Matrix\")\n",
    "plt.show()"
   ]
  },
  {
   "cell_type": "code",
   "execution_count": 42,
   "metadata": {},
   "outputs": [
    {
     "data": {
      "image/png": "[encoded data removed]",
      "text/plain": [
       "<Figure size 432x288 with 2 Axes>"
      ]
     },
     "metadata": {
      "needs_background": "light"
     },
     "output_type": "display_data"
    }
   ],
   "source": [
    "conf_mat_normalized_all = matrix_all_features.astype('float') / matrix_all_features.sum(axis=1)[:, np.newaxis]\n",
    "sns.heatmap(conf_mat_normalized_all, annot=True, )\n",
    "plt.title(\"All Feature Matrix\")\n",
    "plt.show()"
   ]
  },
  {
   "cell_type": "markdown",
   "metadata": {},
   "source": [
    "As we can tell from the 2 feature matrix, the majority of the overall accuarcy is coming from the top left, true negative prediction. Which in this case, isn't too usual as the majority of the data is for no churn customers. The best model would be to use all features, as it has the least \"misses\" and predicts the churn customers the best. The downside to this model, is that it is way over predicting on the no churn customers. This could potentially increase marketing costs if the company was to target potential churn customers but the benefit of the churn accuracy will outweigh this problem."
   ]
  }
 ],
 "metadata": {
  "kernelspec": {
   "display_name": "Python 3",
   "language": "python",
   "name": "python3"
  },
  "language_info": {
   "codemirror_mode": {
    "name": "ipython",
    "version": 3
   },
   "file_extension": ".py",
   "mimetype": "text/x-python",
   "name": "python",
   "nbconvert_exporter": "python",
   "pygments_lexer": "ipython3",
   "version": "3.8.5"
  }
 },
 "nbformat": 4,
 "nbformat_minor": 4
}
