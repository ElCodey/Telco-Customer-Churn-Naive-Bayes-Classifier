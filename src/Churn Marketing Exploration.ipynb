{
 "cells": [
  {
   "cell_type": "markdown",
   "metadata": {},
   "source": [
    "# Telco Customer Churn Data Exploration"
   ]
  },
  {
   "cell_type": "code",
   "execution_count": 2,
   "metadata": {},
   "outputs": [],
   "source": [
    "import pandas as pd\n",
    "import matplotlib.pyplot as plt\n",
    "import numpy as np\n",
    "\n",
    "%matplotlib inline"
   ]
  },
  {
   "cell_type": "markdown",
   "metadata": {},
   "source": [
    "This is an IBM sample data set of customer data. The goal of this project is to explore and analyse customer data and focus on building a model which can predict if a customer may be likely to leave or not. This can help build a customer rention marketing program and show the company what customers the company can invest resources in.\n",
    "\n",
    "The start of the project will be feature exploration and find trends for the modelling. Once features have been explored and selected for modelling. The data will be cleaned and prepared for modelling."
   ]
  },
  {
   "cell_type": "code",
   "execution_count": 3,
   "metadata": {},
   "outputs": [],
   "source": [
    "df = pd.read_csv(\"WA_Fn-UseC_-Telco-Customer-Churn.csv\")"
   ]
  },
  {
   "cell_type": "code",
   "execution_count": 4,
   "metadata": {},
   "outputs": [],
   "source": [
    "df_churn = df[df[\"Churn\"] == \"Yes\"]\n",
    "df_no_churn = df[df[\"Churn\"] == \"No\"]"
   ]
  },
  {
   "cell_type": "code",
   "execution_count": 5,
   "metadata": {},
   "outputs": [
    {
     "data": {
      "image/png": "[encoded data removed]",
      "text/plain": [
       "<Figure size 432x288 with 1 Axes>"
      ]
     },
     "metadata": {
      "needs_background": "light"
     },
     "output_type": "display_data"
    }
   ],
   "source": [
    "bar_mean = df.groupby(['Churn'])['MonthlyCharges'].mean()\n",
    "\n",
    "bar_mean.plot.bar()\n",
    "plt.title(\"Monthly Mean Cost\")\n",
    "plt.ylabel(\"Monthly Cost ($)\");"
   ]
  },
  {
   "cell_type": "code",
   "execution_count": 6,
   "metadata": {
    "scrolled": true
   },
   "outputs": [
    {
     "data": {
      "image/png": "[encoded data removed]",
      "text/plain": [
       "<Figure size 432x288 with 1 Axes>"
      ]
     },
     "metadata": {
      "needs_background": "light"
     },
     "output_type": "display_data"
    }
   ],
   "source": [
    "bar_median = df.groupby(['Churn'])['MonthlyCharges'].median()\n",
    "\n",
    "bar_median.plot.bar()\n",
    "plt.title(\"Monthly Median Cost\")\n",
    "plt.ylabel(\"Monthly Cost ($)\");"
   ]
  },
  {
   "cell_type": "markdown",
   "metadata": {},
   "source": [
    "From the two bar charts above showing the median and the mean. It's clear that the churn customers have on average an overall higher monthly cost than the non-churn customers. This will be an important feature in modelling and now let's look at the tenure length. Before exploration, we expect to see a lot more shorter \"rolling\" contracts for the churn customers. A key focus could be in trying to get customers to commit to the longer contract types."
   ]
  },
  {
   "cell_type": "code",
   "execution_count": 7,
   "metadata": {},
   "outputs": [
    {
     "data": {
      "image/png": "[encoded data removed]",
      "text/plain": [
       "<Figure size 432x288 with 1 Axes>"
      ]
     },
     "metadata": {
      "needs_background": "light"
     },
     "output_type": "display_data"
    }
   ],
   "source": [
    "bar_tenure = df.groupby(['Churn'])['tenure'].median()\n",
    "\n",
    "bar_tenure.plot.bar()\n",
    "plt.title(\"Median Tenure Length\")\n",
    "plt.ylabel(\"Months\");"
   ]
  },
  {
   "cell_type": "markdown",
   "metadata": {},
   "source": [
    "The median for the tenure length is considerable different. The median is very high for the no churn group and this shows the important of fixed mid/long term contracts."
   ]
  },
  {
   "cell_type": "code",
   "execution_count": 31,
   "metadata": {},
   "outputs": [
    {
     "data": {
      "text/html": [
       "<div>\n",
       "<style scoped>\n",
       "    .dataframe tbody tr th:only-of-type {\n",
       "        vertical-align: middle;\n",
       "    }\n",
       "\n",
       "    .dataframe tbody tr th {\n",
       "        vertical-align: top;\n",
       "    }\n",
       "\n",
       "    .dataframe thead th {\n",
       "        text-align: right;\n",
       "    }\n",
       "</style>\n",
       "<table border=\"1\" class=\"dataframe\">\n",
       "  <thead>\n",
       "    <tr style=\"text-align: right;\">\n",
       "      <th></th>\n",
       "      <th>SeniorCitizen</th>\n",
       "      <th>tenure</th>\n",
       "      <th>MonthlyCharges</th>\n",
       "    </tr>\n",
       "    <tr>\n",
       "      <th>Churn</th>\n",
       "      <th></th>\n",
       "      <th></th>\n",
       "      <th></th>\n",
       "    </tr>\n",
       "  </thead>\n",
       "  <tbody>\n",
       "    <tr>\n",
       "      <th>No</th>\n",
       "      <td>0.128721</td>\n",
       "      <td>37.569965</td>\n",
       "      <td>61.265124</td>\n",
       "    </tr>\n",
       "    <tr>\n",
       "      <th>Yes</th>\n",
       "      <td>0.254682</td>\n",
       "      <td>17.979133</td>\n",
       "      <td>74.441332</td>\n",
       "    </tr>\n",
       "  </tbody>\n",
       "</table>\n",
       "</div>"
      ],
      "text/plain": [
       "       SeniorCitizen     tenure  MonthlyCharges\n",
       "Churn                                          \n",
       "No          0.128721  37.569965       61.265124\n",
       "Yes         0.254682  17.979133       74.441332"
      ]
     },
     "execution_count": 31,
     "metadata": {},
     "output_type": "execute_result"
    }
   ],
   "source": [
    "df.groupby([\"Churn\"]).mean()"
   ]
  },
  {
   "cell_type": "code",
   "execution_count": 30,
   "metadata": {},
   "outputs": [
    {
     "data": {
      "text/plain": [
       "<AxesSubplot:ylabel='Churn'>"
      ]
     },
     "execution_count": 30,
     "metadata": {},
     "output_type": "execute_result"
    },
    {
     "data": {
      "image/png": "[encoded data removed]",
      "text/plain": [
       "<Figure size 432x288 with 1 Axes>"
      ]
     },
     "metadata": {
      "needs_background": "light"
     },
     "output_type": "display_data"
    }
   ],
   "source": [
    "df.groupby([\"Churn\"]).mean().plot(kind = \"barh\")"
   ]
  },
  {
   "cell_type": "markdown",
   "metadata": {},
   "source": [
    "From the chart and table above, we can see that generally the churn group are paying more and staying a lot less. This will most likely be to the higher monthly contract rates. Tenure length will definetely be a feature we will be keeping for modelling. Let's explore more about the contract lengths and type of services the customers are using."
   ]
  },
  {
   "cell_type": "code",
   "execution_count": 9,
   "metadata": {},
   "outputs": [],
   "source": [
    "churn_grouped = df.groupby([\"Churn\"])"
   ]
  },
  {
   "cell_type": "code",
   "execution_count": 10,
   "metadata": {},
   "outputs": [
    {
     "data": {
      "text/plain": [
       "Churn  InternetService\n",
       "No     DSL                0.379204\n",
       "       Fiber optic        0.347700\n",
       "       No                 0.273096\n",
       "Yes    Fiber optic        0.693954\n",
       "       DSL                0.245586\n",
       "       No                 0.060460\n",
       "Name: InternetService, dtype: float64"
      ]
     },
     "execution_count": 10,
     "metadata": {},
     "output_type": "execute_result"
    }
   ],
   "source": [
    "churn_grouped[\"InternetService\"].value_counts(normalize=True)"
   ]
  },
  {
   "cell_type": "code",
   "execution_count": 48,
   "metadata": {},
   "outputs": [
    {
     "data": {
      "image/png": "[encoded data removed]",
      "text/plain": [
       "<Figure size 432x288 with 1 Axes>"
      ]
     },
     "metadata": {
      "needs_background": "light"
     },
     "output_type": "display_data"
    }
   ],
   "source": [
    "no = [0.379204, 0.347700, 0.273096]\n",
    "yes = [0.245586, 0.693954, 0.060460]\n",
    "labels = [ \"DSL\", \"Fiber Optic\", \"No\"]\n",
    "\n",
    "x = np.arange(len(labels))  \n",
    "width = 0.35  \n",
    "\n",
    "fig, ax = plt.subplots()\n",
    "rects1 = ax.bar(x - width/2, no, width, label='No Churn')\n",
    "rects2 = ax.bar(x + width/2, yes, width, label='Churn')\n",
    "\n",
    "\n",
    "ax.set_ylabel('Percent in Churn Categories')\n",
    "ax.set_title('Internet Type')\n",
    "ax.set_xticks(x)\n",
    "ax.set_xticklabels(labels)\n",
    "ax.legend();\n"
   ]
  },
  {
   "cell_type": "markdown",
   "metadata": {},
   "source": [
    "We can see that a very small percent of the churn group didn't have internet. The majority having fiber optic, as the no churn group is a bit more evenly distributed. The fiber optic service will be the reason for the higher average monthly price. It will be important to look into this service for customer feedback. Some things to consider are:\n",
    "- Is the fiber optic priced correctly?\n",
    "- Are customers happy with the service?\n",
    "- Can the service be improved?"
   ]
  },
  {
   "cell_type": "code",
   "execution_count": 13,
   "metadata": {},
   "outputs": [
    {
     "data": {
      "text/plain": [
       "Churn  Contract      \n",
       "No     Month-to-month    0.429068\n",
       "       Two year          0.318322\n",
       "       One year          0.252609\n",
       "Yes    Month-to-month    0.885500\n",
       "       One year          0.088818\n",
       "       Two year          0.025682\n",
       "Name: Contract, dtype: float64"
      ]
     },
     "execution_count": 13,
     "metadata": {},
     "output_type": "execute_result"
    }
   ],
   "source": [
    "churn_grouped[\"Contract\"].value_counts(normalize=True)"
   ]
  },
  {
   "cell_type": "code",
   "execution_count": 14,
   "metadata": {},
   "outputs": [
    {
     "data": {
      "image/png": "[encoded data removed]",
      "text/plain": [
       "<Figure size 432x288 with 1 Axes>"
      ]
     },
     "metadata": {
      "needs_background": "light"
     },
     "output_type": "display_data"
    }
   ],
   "source": [
    "no = [0.429068, 0.252609, 0.318322]\n",
    "yes = [0.885500, 0.088818, 0.025682]\n",
    "labels = [ \"Monthly\", \"One Year\", \"Two Year\"]\n",
    "\n",
    "x = np.arange(len(labels))  \n",
    "width = 0.35  \n",
    "\n",
    "fig, ax = plt.subplots()\n",
    "rects1 = ax.bar(x - width/2, no, width, label='No Churn')\n",
    "rects2 = ax.bar(x + width/2, yes, width, label='Churn')\n",
    "\n",
    "\n",
    "ax.set_ylabel('Percent')\n",
    "ax.set_title('Contract Type')\n",
    "ax.set_xticks(x)\n",
    "ax.set_xticklabels(labels)\n",
    "ax.legend();\n"
   ]
  },
  {
   "cell_type": "markdown",
   "metadata": {},
   "source": [
    "As expected from the bar chart above. It's clear that the majority of churn customers are on a monhtly contract, this could explain the higher fees."
   ]
  },
  {
   "cell_type": "code",
   "execution_count": 69,
   "metadata": {},
   "outputs": [
    {
     "data": {
      "image/png": "[encoded data removed]",
      "text/plain": [
       "<Figure size 432x288 with 1 Axes>"
      ]
     },
     "metadata": {
      "needs_background": "light"
     },
     "output_type": "display_data"
    }
   ],
   "source": [
    "dummy = df_churn[df_churn[\"Contract\"] == \"Month-to-month\"];\n",
    "plt.hist(dummy[\"tenure\"]);\n",
    "plt.title(\"Monthly Contract Tenure Lengths\");\n",
    "plt.xlabel(\"Tenure Length in Months\");\n",
    "plt.ylabel(\"Count\");"
   ]
  },
  {
   "cell_type": "markdown",
   "metadata": {},
   "source": [
    "The histogram above shows the tenure lengths for the monthly contracts for the churn group. The chart is right skewed and the majority of the churn customers had tenure lengths of under 10 months."
   ]
  },
  {
   "cell_type": "code",
   "execution_count": 68,
   "metadata": {},
   "outputs": [
    {
     "data": {
      "image/png": "[encoded data removed]",
      "text/plain": [
       "<Figure size 432x288 with 1 Axes>"
      ]
     },
     "metadata": {
      "needs_background": "light"
     },
     "output_type": "display_data"
    }
   ],
   "source": [
    "plt.hist(df_churn[\"tenure\"]);\n",
    "plt.title(\"Tenure Lenth for Churn Customers\");\n",
    "plt.xlabel(\"Tenure Length in Months\");\n",
    "plt.ylabel(\"Count\");"
   ]
  },
  {
   "cell_type": "code",
   "execution_count": 72,
   "metadata": {},
   "outputs": [
    {
     "data": {
      "image/png": "[encoded data removed]",
      "text/plain": [
       "<Figure size 432x288 with 1 Axes>"
      ]
     },
     "metadata": {
      "needs_background": "light"
     },
     "output_type": "display_data"
    }
   ],
   "source": [
    "plt.boxplot(df_churn[\"tenure\"]);\n",
    "plt.title(\"Tenure Length for Churn Customers\");\n",
    "plt.xlabel(\"Churn Customers\");\n",
    "plt.ylabel(\"Tenure Length in Months\");"
   ]
  },
  {
   "cell_type": "markdown",
   "metadata": {},
   "source": [
    "As we can see from the boxplot and histogram above for churn customers, there is a wide range on tenure length. This will have an impact on the modelling. Tenure length is an important feature, so for the modelling a naive bayes classifier will be used as it is not sensitive to outliers. "
   ]
  },
  {
   "cell_type": "code",
   "execution_count": 66,
   "metadata": {},
   "outputs": [
    {
     "name": "stdout",
     "output_type": "stream",
     "text": [
      "Median tenure length for monthly contracts: 7.0\n",
      "Mean tenure length for monthly contracts: 14.016918429003022\n"
     ]
    }
   ],
   "source": [
    "print(\"Median tenure length for monthly contracts: {}\".format(dummy[\"tenure\"].median()))\n",
    "print(\"Mean tenure length for monthly contracts: {}\".format(dummy[\"tenure\"].mean()))"
   ]
  },
  {
   "cell_type": "code",
   "execution_count": 29,
   "metadata": {},
   "outputs": [
    {
     "data": {
      "text/plain": [
       "Churn  Dependents\n",
       "No     No            3390\n",
       "       Yes           1784\n",
       "Yes    No            1543\n",
       "       Yes            326\n",
       "Name: Dependents, dtype: int64"
      ]
     },
     "execution_count": 29,
     "metadata": {},
     "output_type": "execute_result"
    }
   ],
   "source": [
    "churn_grouped[\"Dependents\"].value_counts()"
   ]
  },
  {
   "cell_type": "code",
   "execution_count": 45,
   "metadata": {},
   "outputs": [
    {
     "data": {
      "image/png": "[encoded data removed]",
      "text/plain": [
       "<Figure size 432x288 with 1 Axes>"
      ]
     },
     "metadata": {
      "needs_background": "light"
     },
     "output_type": "display_data"
    }
   ],
   "source": [
    "churn_grouped[\"Dependents\"].value_counts(normalize=True).plot(kind=\"barh\");\n",
    "plt.title(\"Customer Dependents Split By Churn\");\n",
    "plt.xlabel(\"Percent of Churn Category\");"
   ]
  },
  {
   "cell_type": "markdown",
   "metadata": {},
   "source": [
    "There doesn't seem to be any relevant link between customers who have dependents and those who don't. A few more features will be explored to see what services customers were using before modelling."
   ]
  },
  {
   "cell_type": "code",
   "execution_count": 34,
   "metadata": {},
   "outputs": [
    {
     "data": {
      "text/plain": [
       "Churn  StreamingMovies    \n",
       "No     Yes                    1914\n",
       "       No                     1847\n",
       "       No internet service    1413\n",
       "Yes    No                      938\n",
       "       Yes                     818\n",
       "       No internet service     113\n",
       "Name: StreamingMovies, dtype: int64"
      ]
     },
     "execution_count": 34,
     "metadata": {},
     "output_type": "execute_result"
    }
   ],
   "source": [
    "churn_grouped[\"StreamingMovies\"].value_counts()"
   ]
  },
  {
   "cell_type": "code",
   "execution_count": 35,
   "metadata": {},
   "outputs": [
    {
     "data": {
      "text/plain": [
       "Churn  StreamingTV        \n",
       "No     Yes                    1893\n",
       "       No                     1868\n",
       "       No internet service    1413\n",
       "Yes    No                      942\n",
       "       Yes                     814\n",
       "       No internet service     113\n",
       "Name: StreamingTV, dtype: int64"
      ]
     },
     "execution_count": 35,
     "metadata": {},
     "output_type": "execute_result"
    }
   ],
   "source": [
    "churn_grouped[\"StreamingTV\"].value_counts()"
   ]
  },
  {
   "cell_type": "code",
   "execution_count": 36,
   "metadata": {},
   "outputs": [
    {
     "data": {
      "text/plain": [
       "Churn  TechSupport        \n",
       "No     No                     2027\n",
       "       Yes                    1734\n",
       "       No internet service    1413\n",
       "Yes    No                     1446\n",
       "       Yes                     310\n",
       "       No internet service     113\n",
       "Name: TechSupport, dtype: int64"
      ]
     },
     "execution_count": 36,
     "metadata": {},
     "output_type": "execute_result"
    }
   ],
   "source": [
    "churn_grouped[\"TechSupport\"].value_counts()"
   ]
  },
  {
   "cell_type": "code",
   "execution_count": 46,
   "metadata": {},
   "outputs": [
    {
     "data": {
      "image/png": "[encoded data removed]",
      "text/plain": [
       "<Figure size 432x288 with 1 Axes>"
      ]
     },
     "metadata": {
      "needs_background": "light"
     },
     "output_type": "display_data"
    }
   ],
   "source": [
    "churn_grouped[\"TechSupport\"].value_counts(normalize=True).plot(kind = \"barh\");\n",
    "plt.title(\"Tech Support Split By Churn\");\n",
    "plt.xlabel(\"Percent of Churn Category\");"
   ]
  },
  {
   "cell_type": "markdown",
   "metadata": {},
   "source": [
    "There doesn't seem to be any relevant link between customers who used streaming services. It does seem like a large percent of churn customers did not have tech support. This feature can be kept and used to see if it improves the model."
   ]
  }
 ],
 "metadata": {
  "kernelspec": {
   "display_name": "Python 3",
   "language": "python",
   "name": "python3"
  },
  "language_info": {
   "codemirror_mode": {
    "name": "ipython",
    "version": 3
   },
   "file_extension": ".py",
   "mimetype": "text/x-python",
   "name": "python",
   "nbconvert_exporter": "python",
   "pygments_lexer": "ipython3",
   "version": "3.8.5"
  }
 },
 "nbformat": 4,
 "nbformat_minor": 4
}
